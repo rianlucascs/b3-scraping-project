{
 "cells": [
  {
   "cell_type": "markdown",
   "metadata": {},
   "source": [
    "# 1. Índices de Segmentos e Setoriais"
   ]
  },
  {
   "cell_type": "markdown",
   "metadata": {},
   "source": [
    "Fonte: https://www.b3.com.br/pt_br/market-data-e-indices/indices/indices-de-segmentos-e-setoriais/"
   ]
  },
  {
   "cell_type": "markdown",
   "metadata": {},
   "source": [
    "### Índices disponíveis"
   ]
  },
  {
   "cell_type": "markdown",
   "metadata": {},
   "source": [
    "- 'IDIV': Índice Dividendos BM&FBOVESPA (IDIV B3)\n",
    "- 'MLCX': Índice MidLarge Cap (MLCX B3)\n",
    "- 'SMLL': Índice Small Cap (SMLL B3)\n",
    "- 'IVBX': Índice Valor (IVBX 2 B3)\n",
    "- 'AGFS': Índice Agronegócio B3 (IAGRO B3)\n",
    "- 'IFNC': Índice BM&FBOVESPA Financeiro (IFNC B3)\n",
    "- 'IBEP': Índice Bovespa B3 Empresas Privadas (Ibov B3 Empresas Privadas)\n",
    "- 'IBEE': Índice Bovespa B3 Estatais (Ibov B3 Estatais)\n",
    "- 'IBHB': Índice Bovespa Smart High Beta B3 (Ibov Smart High Beta B3)\n",
    "- 'IBLV': Índice Bovespa Smart Low Volatility B3 (Ibov Smart Low B3)\n",
    "- 'IMOB': Índice Imobiliário (IMOB B3)\n",
    "- 'UTIL': Índice Utilidade Pública BM&FBOVESPA (UTIL B3)\n",
    "- 'ICON': Índice de Consumo (ICON B3)\n",
    "- 'IEEX': Índice de Energia Elétrica (IEE B3)\n",
    "- 'IFIL': Índice de Fundos de Investimentos Imobiliários de Alta Liquidez (IFIX L B3)\n",
    "- 'IMAT': Índice de Materiais Básicos BM&FBOVESPA (IMAT B3)\n",
    "- 'INDX': Índice do Setor Industrial (INDX B3)\n",
    "- 'IBSD': Índice Bovespa Smart Dividendos B3 (Ibov Smart Dividendos B3)\n",
    "- 'BDRX': Índice de BDRs Não Patrocinados-GLOBAL (BDRX B3)\n",
    "- 'IFIX': Índice de Fundos de Investimentos Imobiliários (IFIX B3)"
   ]
  },
  {
   "cell_type": "markdown",
   "metadata": {},
   "source": [
    "***"
   ]
  },
  {
   "cell_type": "code",
   "execution_count": null,
   "metadata": {},
   "outputs": [],
   "source": [
    "import requests\n",
    "\n",
    "def get_codigos(indice: str) -> list:\n",
    "    \"\"\"\n",
    "    Obtém a lista de códigos de ações de um setor específico a partir de um arquivo TXT no GitHub.\n",
    "    \"\"\"\n",
    "    url = f'https://raw.githubusercontent.com/rianlucascs/b3-scraping-project/master/processed_data/1.%20%C3%8Dndices%20de%20Segmentos%20e%20Setoriais/Setores/{indice}/C%C3%B3digos_{indice}.txt'  \n",
    "    try:\n",
    "        response = requests.get(url)\n",
    "    except requests.exceptions.RequestException as e:\n",
    "        raise ValueError(f'Erro ao acessar a página: {e}')\n",
    "    return [item.strip() for item in response.text.splitlines()]"
   ]
  },
  {
   "cell_type": "code",
   "execution_count": 8,
   "metadata": {},
   "outputs": [
    {
     "name": "stdout",
     "output_type": "stream",
     "text": [
      "Composição do Índice: ['CACR11', 'BPFF11', 'AFHI11', 'AJFI11', 'ALZR11', 'RZAT11', 'FATN11', 'ARRI11', 'AIEC11', 'BARI11', 'BRCR11', 'BCIA11', 'BCRI11', 'BLMG11', 'BRCO11', 'BROF11', 'BTAL11', 'BTCI11', 'BPML11', 'BTRA11', 'BTLG11', 'CPTS11', 'CLIN11', 'CPSH11', 'CYCR11', 'DEVA11', 'VRTA11', 'GTWR11', 'GZIT11', 'GGRC11', 'GARE11', 'HABT11', 'HCTR11', 'HGBS11', 'HGCR11', 'HGFF11', 'HGLG11', 'HGPO11', 'HGRE11', 'HGRU11', 'HTMX11', 'HSAF11', 'HSLG11', 'HSML11', 'HFOF11', 'INLG11', 'IRDM11', 'JSAF11', 'JSRE11', 'KISU11', 'KNRI11', 'KCRE11', 'KNHF11', 'KNHY11', 'KNIP11', 'KNCR11', 'KNSC11', 'KNUQ11', 'KFOF11', 'KIVO11', 'KORE11', 'MALL11', 'MANA11', 'MCCI11', 'MCHY11', 'MXRF11', 'MFII11', 'OUJP11', 'PATL11', 'PORD11', 'RBRL11', 'RBRX11', 'RBRY11', 'RBRP11', 'RBRF11', 'RBRR11', 'RECR11', 'RECT11', 'RBFF11', 'RCRB11', 'RBVA11', 'RZAK11', 'RZTR11', 'SARE11', 'TRBL11', 'SPXS11', 'SNCI11', 'SNEL11', 'SNFF11', 'TEPP11', 'TGAR11', 'TVRI11', 'TRXF11', 'URPR11', 'VGHF11', 'VGIP11', 'VGIR11', 'CVBI11', 'LVBI11', 'PVBI11', 'RVBI11', 'VCJR11', 'VSLH11', 'VIUR11', 'VILG11', 'VINO11', 'VISC11', 'WHGR11', 'XPCI11', 'XPIN11', 'XPLG11', 'XPML11', 'XPSF11', 'ZAVI11']\n"
     ]
    }
   ],
   "source": [
    "codigos = get_codigos('IFIX')\n",
    "\n",
    "print(f'Composição do Índice: {codigos}')"
   ]
  },
  {
   "cell_type": "code",
   "execution_count": 9,
   "metadata": {},
   "outputs": [
    {
     "name": "stdout",
     "output_type": "stream",
     "text": [
      "Quantidade de ativos que compoem o indice: 114\n"
     ]
    }
   ],
   "source": [
    "print(f'Quantidade de ativos que compoem o indice: {len(codigos)}')"
   ]
  },
  {
   "cell_type": "markdown",
   "metadata": {},
   "source": [
    "***"
   ]
  },
  {
   "cell_type": "code",
   "execution_count": null,
   "metadata": {},
   "outputs": [],
   "source": [
    "def get_apresentacao(setor:str) -> str: \n",
    "    \"\"\"\n",
    "    Obtém a apresentação de um setor a partir de um arquivo TXT em um repositório no GitHub.\n",
    "\n",
    "    Args:\n",
    "        setor (str): O nome do setor para buscar a apresentação.\n",
    "\n",
    "    Returns:\n",
    "        str: O conteúdo da apresentação.\n",
    "\n",
    "    Raises:\n",
    "        ValueError: Se não for possível acessar a página.\n",
    "    \"\"\"\n",
    "    url = f'https://raw.githubusercontent.com/rianlucascs/b3-scraping-project/master/processed_data/1.%20%C3%8Dndices%20de%20Segmentos%20e%20Setoriais/Setores/{setor}/Apresenta%C3%A7%C3%A3o_{setor}.txt'\n",
    "    try:\n",
    "        response = requests.get(url)\n",
    "    except requests.exceptions.RequestException as e:\n",
    "        raise ValueError(f'Erro ao acessar a página: {e}')\n",
    "    return response.text"
   ]
  }
 ],
 "metadata": {
  "kernelspec": {
   "display_name": ".venv",
   "language": "python",
   "name": "python3"
  },
  "language_info": {
   "codemirror_mode": {
    "name": "ipython",
    "version": 3
   },
   "file_extension": ".py",
   "mimetype": "text/x-python",
   "name": "python",
   "nbconvert_exporter": "python",
   "pygments_lexer": "ipython3",
   "version": "3.10.0"
  }
 },
 "nbformat": 4,
 "nbformat_minor": 2
}
