{
 "cells": [
  {
   "cell_type": "markdown",
   "metadata": {},
   "source": [
    "# 1. Índices de Segmentos e Setoriais"
   ]
  },
  {
   "cell_type": "markdown",
   "metadata": {},
   "source": [
    "Fonte: https://www.b3.com.br/pt_br/market-data-e-indices/indices/indices-de-segmentos-e-setoriais/"
   ]
  },
  {
   "cell_type": "markdown",
   "metadata": {},
   "source": [
    "### Índices disponíveis"
   ]
  },
  {
   "cell_type": "markdown",
   "metadata": {},
   "source": [
    "- 'IDIV': Índice Dividendos BM&FBOVESPA (IDIV B3)\n",
    "- 'MLCX': Índice MidLarge Cap (MLCX B3)\n",
    "- 'SMLL': Índice Small Cap (SMLL B3)\n",
    "- 'IVBX': Índice Valor (IVBX 2 B3)\n",
    "- 'AGFS': Índice Agronegócio B3 (IAGRO B3)\n",
    "- 'IFNC': Índice BM&FBOVESPA Financeiro (IFNC B3)\n",
    "- 'IBEP': Índice Bovespa B3 Empresas Privadas (Ibov B3 Empresas Privadas)\n",
    "- 'IBEE': Índice Bovespa B3 Estatais (Ibov B3 Estatais)\n",
    "- 'IBHB': Índice Bovespa Smart High Beta B3 (Ibov Smart High Beta B3)\n",
    "- 'IBLV': Índice Bovespa Smart Low Volatility B3 (Ibov Smart Low B3)\n",
    "- 'IMOB': Índice Imobiliário (IMOB B3)\n",
    "- 'UTIL': Índice Utilidade Pública BM&FBOVESPA (UTIL B3)\n",
    "- 'ICON': Índice de Consumo (ICON B3)\n",
    "- 'IEEX': Índice de Energia Elétrica (IEE B3)\n",
    "- 'IFIL': Índice de Fundos de Investimentos Imobiliários de Alta Liquidez (IFIX L B3)\n",
    "- 'IMAT': Índice de Materiais Básicos BM&FBOVESPA (IMAT B3)\n",
    "- 'INDX': Índice do Setor Industrial (INDX B3)\n",
    "- 'IBSD': Índice Bovespa Smart Dividendos B3 (Ibov Smart Dividendos B3)\n",
    "- 'BDRX': Índice de BDRs Não Patrocinados-GLOBAL (BDRX B3)\n",
    "- 'IFIX': Índice de Fundos de Investimentos Imobiliários (IFIX B3)"
   ]
  },
  {
   "cell_type": "markdown",
   "metadata": {},
   "source": [
    "***"
   ]
  },
  {
   "cell_type": "code",
   "execution_count": null,
   "metadata": {},
   "outputs": [],
   "source": [
    "import requests\n",
    "\n",
    "def get_codigos(indice: str) -> list:\n",
    "    \"\"\"\n",
    "    Obtém a lista de códigos de ações de um setor específico a partir de um arquivo TXT no GitHub.\n",
    "    \n",
    "    :Repositório: `rianlucascs/b3-scraping-project`.\n",
    "    \"\"\"\n",
    "    url = f'https://raw.githubusercontent.com/rianlucascs/b3-scraping-project/master/processed_data/1.%20%C3%8Dndices%20de%20Segmentos%20e%20Setoriais/Setores/{indice}/C%C3%B3digos_{indice}.txt'  \n",
    "    try:\n",
    "        response = requests.get(url)\n",
    "    except requests.exceptions.RequestException as e:\n",
    "        raise ValueError(f'Erro ao acessar a página: {e}')\n",
    "    return [item.strip() for item in response.text.splitlines()]"
   ]
  },
  {
   "cell_type": "code",
   "execution_count": 8,
   "metadata": {},
   "outputs": [
    {
     "name": "stdout",
     "output_type": "stream",
     "text": [
      "Composição do Índice: ['CACR11', 'BPFF11', 'AFHI11', 'AJFI11', 'ALZR11', 'RZAT11', 'FATN11', 'ARRI11', 'AIEC11', 'BARI11', 'BRCR11', 'BCIA11', 'BCRI11', 'BLMG11', 'BRCO11', 'BROF11', 'BTAL11', 'BTCI11', 'BPML11', 'BTRA11', 'BTLG11', 'CPTS11', 'CLIN11', 'CPSH11', 'CYCR11', 'DEVA11', 'VRTA11', 'GTWR11', 'GZIT11', 'GGRC11', 'GARE11', 'HABT11', 'HCTR11', 'HGBS11', 'HGCR11', 'HGFF11', 'HGLG11', 'HGPO11', 'HGRE11', 'HGRU11', 'HTMX11', 'HSAF11', 'HSLG11', 'HSML11', 'HFOF11', 'INLG11', 'IRDM11', 'JSAF11', 'JSRE11', 'KISU11', 'KNRI11', 'KCRE11', 'KNHF11', 'KNHY11', 'KNIP11', 'KNCR11', 'KNSC11', 'KNUQ11', 'KFOF11', 'KIVO11', 'KORE11', 'MALL11', 'MANA11', 'MCCI11', 'MCHY11', 'MXRF11', 'MFII11', 'OUJP11', 'PATL11', 'PORD11', 'RBRL11', 'RBRX11', 'RBRY11', 'RBRP11', 'RBRF11', 'RBRR11', 'RECR11', 'RECT11', 'RBFF11', 'RCRB11', 'RBVA11', 'RZAK11', 'RZTR11', 'SARE11', 'TRBL11', 'SPXS11', 'SNCI11', 'SNEL11', 'SNFF11', 'TEPP11', 'TGAR11', 'TVRI11', 'TRXF11', 'URPR11', 'VGHF11', 'VGIP11', 'VGIR11', 'CVBI11', 'LVBI11', 'PVBI11', 'RVBI11', 'VCJR11', 'VSLH11', 'VIUR11', 'VILG11', 'VINO11', 'VISC11', 'WHGR11', 'XPCI11', 'XPIN11', 'XPLG11', 'XPML11', 'XPSF11', 'ZAVI11']\n"
     ]
    }
   ],
   "source": [
    "codigos = get_codigos('IFIX')\n",
    "\n",
    "print(f'Composição do Índice: {codigos}')"
   ]
  },
  {
   "cell_type": "code",
   "execution_count": 9,
   "metadata": {},
   "outputs": [
    {
     "name": "stdout",
     "output_type": "stream",
     "text": [
      "Quantidade de ativos que compoem o indice: 114\n"
     ]
    }
   ],
   "source": [
    "print(f'Quantidade de ativos que compoem o indice: {len(codigos)}')"
   ]
  },
  {
   "cell_type": "markdown",
   "metadata": {},
   "source": [
    "***"
   ]
  },
  {
   "cell_type": "code",
   "execution_count": null,
   "metadata": {},
   "outputs": [],
   "source": [
    "import requests\n",
    "\n",
    "def get_apresentacao(indice:str) -> str: \n",
    "    \"\"\"\n",
    "    Obtém a apresentação de um setor a partir de um arquivo TXT em um repositório no GitHub. \n",
    "    \n",
    "    :Repositório: `rianlucascs/b3-scraping-project`.\n",
    "    \"\"\"\n",
    "    url = f'https://raw.githubusercontent.com/rianlucascs/b3-scraping-project/master/processed_data/1.%20%C3%8Dndices%20de%20Segmentos%20e%20Setoriais/Setores/{indice}/Apresenta%C3%A7%C3%A3o_{indice}.txt'\n",
    "    try:\n",
    "        response = requests.get(url)\n",
    "    except requests.exceptions.RequestException as e:\n",
    "        raise ValueError(f'Erro ao acessar a página: {e}')\n",
    "    return response.text"
   ]
  },
  {
   "cell_type": "code",
   "execution_count": null,
   "metadata": {},
   "outputs": [
    {
     "data": {
      "text/plain": [
       "'ApresentaçãoO IFIX L é o resultado de uma carteira\\nteórica de ativos, elaborada de acordo com os\\ncritérios estabelecidos nesta metodologia.Os\\níndices da B3 utilizam procedimentos e regras\\nconstantes do Manual de Definições e Procedimentos\\ndos Índices da B3.ObjetivoO objetivo do IFIX L é\\nser o indicador do desempenho médio das cotações\\ndos fundos imobiliários mais líquidos negociados\\nnos mercados de bolsa e de balcão organizado da\\nB3.Tipo de índiceO IFIX L é um índice de retorno\\ntotal (ver Manual de Definições e Procedimentos\\ndos Índices da B3).Ativos elegíveisO IFIX L é\\ncomposto pelas cotas de Fundos de Investimentos\\nImobiliários listados nos mercados de bolsa e de\\nbalcão organizado da B3.'"
      ]
     },
     "execution_count": 13,
     "metadata": {},
     "output_type": "execute_result"
    }
   ],
   "source": [
    "get_apresentacao('IFIX')"
   ]
  },
  {
   "cell_type": "markdown",
   "metadata": {},
   "source": [
    "****"
   ]
  },
  {
   "cell_type": "code",
   "execution_count": null,
   "metadata": {},
   "outputs": [],
   "source": [
    "import requests\n",
    "from pandas import read_csv\n",
    "from io import StringIO\n",
    "\n",
    "def get_tabela_setor(indice:str):\n",
    "    \"\"\"\n",
    "    Obtém a tabela de ações de um setor específico a partir de um arquivo CSV no GitHub.\n",
    "    \n",
    "    :Repositório: `rianlucascs/b3-scraping-project`.\n",
    "    \"\"\"\n",
    "    url = f'https://raw.githubusercontent.com/rianlucascs/b3-scraping-project/master/processed_data/1.%20%C3%8Dndices%20de%20Segmentos%20e%20Setoriais/Setores/{indice}/Tabela_{indice}.csv'\n",
    "    try:\n",
    "        response = requests.get(url)\n",
    "    except requests.exceptions.RequestException as e:\n",
    "        raise ValueError(f'Erro ao acessar a página: {e}')\n",
    "    return read_csv(StringIO(response.text), delimiter=',')"
   ]
  },
  {
   "cell_type": "code",
   "execution_count": 18,
   "metadata": {},
   "outputs": [
    {
     "data": {
      "text/html": [
       "<div>\n",
       "<style scoped>\n",
       "    .dataframe tbody tr th:only-of-type {\n",
       "        vertical-align: middle;\n",
       "    }\n",
       "\n",
       "    .dataframe tbody tr th {\n",
       "        vertical-align: top;\n",
       "    }\n",
       "\n",
       "    .dataframe thead th {\n",
       "        text-align: right;\n",
       "    }\n",
       "</style>\n",
       "<table border=\"1\" class=\"dataframe\">\n",
       "  <thead>\n",
       "    <tr style=\"text-align: right;\">\n",
       "      <th></th>\n",
       "      <th>Código</th>\n",
       "      <th>Ação</th>\n",
       "      <th>Tipo</th>\n",
       "      <th>Qtde. Teórica</th>\n",
       "      <th>Part. (%)</th>\n",
       "    </tr>\n",
       "  </thead>\n",
       "  <tbody>\n",
       "    <tr>\n",
       "      <th>0</th>\n",
       "      <td>CACR11</td>\n",
       "      <td>CARTESIA FII</td>\n",
       "      <td>CI</td>\n",
       "      <td>4.836.324</td>\n",
       "      <td>0,358</td>\n",
       "    </tr>\n",
       "    <tr>\n",
       "      <th>1</th>\n",
       "      <td>BPFF11</td>\n",
       "      <td>FII ABSOLUTO</td>\n",
       "      <td>CI</td>\n",
       "      <td>4.492.326</td>\n",
       "      <td>0,210</td>\n",
       "    </tr>\n",
       "    <tr>\n",
       "      <th>2</th>\n",
       "      <td>AFHI11</td>\n",
       "      <td>FII AFHI CRI</td>\n",
       "      <td>CI  ER</td>\n",
       "      <td>4.555.618</td>\n",
       "      <td>0,315</td>\n",
       "    </tr>\n",
       "    <tr>\n",
       "      <th>3</th>\n",
       "      <td>AJFI11</td>\n",
       "      <td>FII AJ MALLS</td>\n",
       "      <td>CI</td>\n",
       "      <td>31.625.978</td>\n",
       "      <td>0,171</td>\n",
       "    </tr>\n",
       "    <tr>\n",
       "      <th>4</th>\n",
       "      <td>ALZR11</td>\n",
       "      <td>FII ALIANZA</td>\n",
       "      <td>CI  ER</td>\n",
       "      <td>12.226.625</td>\n",
       "      <td>0,919</td>\n",
       "    </tr>\n",
       "    <tr>\n",
       "      <th>5</th>\n",
       "      <td>RZAT11</td>\n",
       "      <td>FII ARCTIUM</td>\n",
       "      <td>CI  ER</td>\n",
       "      <td>3.708.168</td>\n",
       "      <td>0,251</td>\n",
       "    </tr>\n",
       "    <tr>\n",
       "      <th>6</th>\n",
       "      <td>FATN11</td>\n",
       "      <td>FII ATHENA I</td>\n",
       "      <td>CI</td>\n",
       "      <td>3.432.267</td>\n",
       "      <td>0,225</td>\n",
       "    </tr>\n",
       "    <tr>\n",
       "      <th>7</th>\n",
       "      <td>ARRI11</td>\n",
       "      <td>FII ATRIO</td>\n",
       "      <td>CI</td>\n",
       "      <td>18.766.809</td>\n",
       "      <td>0,117</td>\n",
       "    </tr>\n",
       "    <tr>\n",
       "      <th>8</th>\n",
       "      <td>AIEC11</td>\n",
       "      <td>FII AUTONOMY</td>\n",
       "      <td>CI</td>\n",
       "      <td>4.824.987</td>\n",
       "      <td>0,167</td>\n",
       "    </tr>\n",
       "    <tr>\n",
       "      <th>9</th>\n",
       "      <td>BARI11</td>\n",
       "      <td>FII BARIGUI</td>\n",
       "      <td>CI</td>\n",
       "      <td>4.634.191</td>\n",
       "      <td>0,249</td>\n",
       "    </tr>\n",
       "  </tbody>\n",
       "</table>\n",
       "</div>"
      ],
      "text/plain": [
       "   Código          Ação    Tipo Qtde. Teórica Part. (%)\n",
       "0  CACR11  CARTESIA FII      CI     4.836.324     0,358\n",
       "1  BPFF11  FII ABSOLUTO      CI     4.492.326     0,210\n",
       "2  AFHI11  FII AFHI CRI  CI  ER     4.555.618     0,315\n",
       "3  AJFI11  FII AJ MALLS      CI    31.625.978     0,171\n",
       "4  ALZR11   FII ALIANZA  CI  ER    12.226.625     0,919\n",
       "5  RZAT11   FII ARCTIUM  CI  ER     3.708.168     0,251\n",
       "6  FATN11  FII ATHENA I      CI     3.432.267     0,225\n",
       "7  ARRI11     FII ATRIO      CI    18.766.809     0,117\n",
       "8  AIEC11  FII AUTONOMY      CI     4.824.987     0,167\n",
       "9  BARI11   FII BARIGUI      CI     4.634.191     0,249"
      ]
     },
     "execution_count": 18,
     "metadata": {},
     "output_type": "execute_result"
    }
   ],
   "source": [
    "table = get_tabela_setor('IFIX')\n",
    "table.head(10)"
   ]
  },
  {
   "cell_type": "code",
   "execution_count": 19,
   "metadata": {},
   "outputs": [
    {
     "name": "stdout",
     "output_type": "stream",
     "text": [
      "Quantidade de elementos na tabela: 114\n"
     ]
    }
   ],
   "source": [
    "print(f'Quantidade de elementos na tabela: {len(table)}')"
   ]
  }
 ],
 "metadata": {
  "kernelspec": {
   "display_name": ".venv",
   "language": "python",
   "name": "python3"
  },
  "language_info": {
   "codemirror_mode": {
    "name": "ipython",
    "version": 3
   },
   "file_extension": ".py",
   "mimetype": "text/x-python",
   "name": "python",
   "nbconvert_exporter": "python",
   "pygments_lexer": "ipython3",
   "version": "3.10.0"
  }
 },
 "nbformat": 4,
 "nbformat_minor": 2
}
